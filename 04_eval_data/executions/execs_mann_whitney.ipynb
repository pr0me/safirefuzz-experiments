{
 "cells": [
  {
   "cell_type": "code",
   "execution_count": null,
   "id": "a2aebc5a",
   "metadata": {},
   "outputs": [],
   "source": [
    "import pandas as pd\n",
    "import dateutil.parser as dp\n",
    "import sys\n",
    "import seaborn as sns\n",
    "import matplotlib.pyplot as plt\n",
    "from matplotlib import rcParams\n",
    "import matplotlib\n",
    "import os\n",
    "import glob\n",
    "from collections import OrderedDict\n",
    "import numpy as np\n",
    "import scipy"
   ]
  },
  {
   "cell_type": "code",
   "execution_count": null,
   "id": "49122bad",
   "metadata": {},
   "outputs": [],
   "source": [
    "frameworks = ['fuzzware', 'halfuzz', 'libAFL_halfuzz', 'SAFIREFUZZ']"
   ]
  },
  {
   "cell_type": "code",
   "execution_count": null,
   "id": "454d8903",
   "metadata": {},
   "outputs": [],
   "source": [
    "targets = ['6lowpan_rx', '6lowpan_tx', 'nxp http', 'samr21 http_eth', 'p2im plc',  'p2im_drone', 'st-plc', 'wycinwyc', 'stm32_tcp_echo_client', 'stm32_tcp_echo_server', 'stm32_udp_echo_client', 'stm32_udp_echo_server']"
   ]
  },
  {
   "cell_type": "code",
   "execution_count": null,
   "id": "fd4ac703",
   "metadata": {},
   "outputs": [],
   "source": [
    "# readall data\n",
    "all_data = {}\n",
    "for t in targets:\n",
    "    all_data[t] = {}\n",
    "    for fw in frameworks:\n",
    "        print(f\"Processing {t} for {fw}\")\n",
    "\n",
    "        all_data[t][fw] = {}\n",
    "        with open(f'./SAFIRE experiments - {fw}.csv', 'r') as f:\n",
    "            data = f.read()\n",
    "        # inefficient but whatever:\n",
    "        data = [d for d in data.split('\\n') if t in d]\n",
    "        print(data)\n",
    "\n",
    "        assert(len(data)==5)\n",
    "        all_data[t][fw] = [float(d.split(',')[2].replace('\"','')) for d in data]\n",
    "print(all_data)"
   ]
  },
  {
   "cell_type": "code",
   "execution_count": null,
   "id": "a299821c",
   "metadata": {
    "scrolled": false
   },
   "outputs": [],
   "source": [
    "for fw in frameworks:\n",
    "    if fw == 'SAFIREFUZZ':\n",
    "        continue\n",
    "    found_violation = False\n",
    "    print(f'=== Comparing SafireFuzz with {fw} ===')\n",
    "    \n",
    "    for t in targets:\n",
    "\n",
    "        safire_maxs = all_data[t]['SAFIREFUZZ']\n",
    "        target_maxs = all_data[t][fw]\n",
    "        mannu = scipy.stats.mannwhitneyu(safire_maxs, target_maxs, method='auto')\n",
    "        if mannu.pvalue > 0.05:\n",
    "            print(f'Offending P-Value while comparing against {t}: {mannu.pvalue:.03f}')\n",
    "            found_violation=True\n",
    "    if found_violation is False:\n",
    "        print('No offending P-Values found')\n",
    "    print()"
   ]
  },
  {
   "cell_type": "code",
   "execution_count": null,
   "id": "a6bbd796",
   "metadata": {},
   "outputs": [],
   "source": [
    "import pickle\n",
    "with open('execs_aggregrated', 'wb') as f:\n",
    "    f.write(pickle.dumps(all_data))"
   ]
  }
 ],
 "metadata": {
  "kernelspec": {
   "display_name": "Python 3 (ipykernel)",
   "language": "python",
   "name": "python3"
  },
  "language_info": {
   "codemirror_mode": {
    "name": "ipython",
    "version": 3
   },
   "file_extension": ".py",
   "mimetype": "text/x-python",
   "name": "python",
   "nbconvert_exporter": "python",
   "pygments_lexer": "ipython3",
   "version": "3.10.6"
  }
 },
 "nbformat": 4,
 "nbformat_minor": 5
}
